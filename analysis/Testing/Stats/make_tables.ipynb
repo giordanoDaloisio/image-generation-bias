{
 "cells": [
  {
   "cell_type": "code",
   "execution_count": 1,
   "metadata": {},
   "outputs": [],
   "source": [
    "import pandas as pd\n",
    "from sklearn.metrics import accuracy_score, f1_score"
   ]
  },
  {
   "cell_type": "code",
   "execution_count": 2,
   "metadata": {},
   "outputs": [],
   "source": [
    "gender = pd.read_csv('gender_results.csv', index_col=0)"
   ]
  },
  {
   "cell_type": "code",
   "execution_count": 3,
   "metadata": {},
   "outputs": [],
   "source": [
    "ethinicity = pd.read_csv('ethnicity_results.csv', index_col=0)"
   ]
  },
  {
   "cell_type": "code",
   "execution_count": 4,
   "metadata": {},
   "outputs": [
    {
     "data": {
      "application/vnd.microsoft.datawrangler.viewer.v0+json": {
       "columns": [
        {
         "name": "index",
         "rawType": "int64",
         "type": "integer"
        },
        {
         "name": "Type",
         "rawType": "object",
         "type": "string"
        },
        {
         "name": "Accuracy",
         "rawType": "float64",
         "type": "float"
        },
        {
         "name": "Weighted F1",
         "rawType": "float64",
         "type": "float"
        }
       ],
       "conversionMethod": "pd.DataFrame",
       "ref": "a4876dd1-ae20-4fe7-bfd7-ee1bbbcfbda1",
       "rows": [
        [
         "0",
         "General_3",
         "0.9384615384615383",
         "0.9371295371295372"
        ],
        [
         "1",
         "General_2",
         "0.9692307692307692",
         "0.9766749379652604"
        ],
        [
         "2",
         "General_XL",
         "0.9107142857142856",
         "0.9250218035932322"
        ],
        [
         "3",
         "SE_3",
         "0.9230769230769232",
         "0.9230769230769232"
        ],
        [
         "4",
         "SE_2",
         "0.9384615384615383",
         "0.9402197802197804"
        ],
        [
         "5",
         "SE_XL",
         "1.0",
         "1.0"
        ]
       ],
       "shape": {
        "columns": 3,
        "rows": 6
       }
      },
      "text/html": [
       "<div>\n",
       "<style scoped>\n",
       "    .dataframe tbody tr th:only-of-type {\n",
       "        vertical-align: middle;\n",
       "    }\n",
       "\n",
       "    .dataframe tbody tr th {\n",
       "        vertical-align: top;\n",
       "    }\n",
       "\n",
       "    .dataframe thead th {\n",
       "        text-align: right;\n",
       "    }\n",
       "</style>\n",
       "<table border=\"1\" class=\"dataframe\">\n",
       "  <thead>\n",
       "    <tr style=\"text-align: right;\">\n",
       "      <th></th>\n",
       "      <th>Type</th>\n",
       "      <th>Accuracy</th>\n",
       "      <th>Weighted F1</th>\n",
       "    </tr>\n",
       "  </thead>\n",
       "  <tbody>\n",
       "    <tr>\n",
       "      <th>0</th>\n",
       "      <td>General_3</td>\n",
       "      <td>0.938462</td>\n",
       "      <td>0.937130</td>\n",
       "    </tr>\n",
       "    <tr>\n",
       "      <th>1</th>\n",
       "      <td>General_2</td>\n",
       "      <td>0.969231</td>\n",
       "      <td>0.976675</td>\n",
       "    </tr>\n",
       "    <tr>\n",
       "      <th>2</th>\n",
       "      <td>General_XL</td>\n",
       "      <td>0.910714</td>\n",
       "      <td>0.925022</td>\n",
       "    </tr>\n",
       "    <tr>\n",
       "      <th>3</th>\n",
       "      <td>SE_3</td>\n",
       "      <td>0.923077</td>\n",
       "      <td>0.923077</td>\n",
       "    </tr>\n",
       "    <tr>\n",
       "      <th>4</th>\n",
       "      <td>SE_2</td>\n",
       "      <td>0.938462</td>\n",
       "      <td>0.940220</td>\n",
       "    </tr>\n",
       "    <tr>\n",
       "      <th>5</th>\n",
       "      <td>SE_XL</td>\n",
       "      <td>1.000000</td>\n",
       "      <td>1.000000</td>\n",
       "    </tr>\n",
       "  </tbody>\n",
       "</table>\n",
       "</div>"
      ],
      "text/plain": [
       "         Type  Accuracy  Weighted F1\n",
       "0   General_3  0.938462     0.937130\n",
       "1   General_2  0.969231     0.976675\n",
       "2  General_XL  0.910714     0.925022\n",
       "3        SE_3  0.923077     0.923077\n",
       "4        SE_2  0.938462     0.940220\n",
       "5       SE_XL  1.000000     1.000000"
      ]
     },
     "execution_count": 4,
     "metadata": {},
     "output_type": "execute_result"
    }
   ],
   "source": [
    "ethinicity"
   ]
  },
  {
   "cell_type": "code",
   "execution_count": 5,
   "metadata": {},
   "outputs": [],
   "source": [
    "def get_gender_scores(df):\n",
    "  accuracy = accuracy_score(df['gender'], df['blip_gender'])\n",
    "  f1 = f1_score(df['gender'], df['blip_gender'], average='weighted')\n",
    "  return accuracy, f1\n",
    "\n",
    "def get_ethnicity_scores(df):\n",
    "  accuracy = accuracy_score(df['ethnicity'], df['blip_ethnicity'])\n",
    "  f1 = f1_score(df['ethnicity'], df['blip_ethnicity'], average='weighted')\n",
    "  return accuracy, f1"
   ]
  },
  {
   "cell_type": "markdown",
   "metadata": {},
   "source": [
    "# FLUX"
   ]
  },
  {
   "cell_type": "markdown",
   "metadata": {},
   "source": [
    "## Gender"
   ]
  },
  {
   "cell_type": "code",
   "execution_count": 6,
   "metadata": {},
   "outputs": [],
   "source": [
    "flux_person = pd.read_csv('../manual_inspection/flux/general/blip_label.csv', index_col=0)"
   ]
  },
  {
   "cell_type": "code",
   "execution_count": 7,
   "metadata": {},
   "outputs": [],
   "source": [
    "flux_person['gender'] = flux_person['gender'].replace('women', 'female')"
   ]
  },
  {
   "cell_type": "code",
   "execution_count": 8,
   "metadata": {},
   "outputs": [
    {
     "data": {
      "application/vnd.microsoft.datawrangler.viewer.v0+json": {
       "columns": [
        {
         "name": "index",
         "rawType": "int64",
         "type": "integer"
        },
        {
         "name": "Unnamed: 0",
         "rawType": "int64",
         "type": "integer"
        },
        {
         "name": "prompt",
         "rawType": "object",
         "type": "string"
        },
        {
         "name": "gender",
         "rawType": "object",
         "type": "string"
        },
        {
         "name": "ethnicity",
         "rawType": "object",
         "type": "string"
        },
        {
         "name": "blip_gender",
         "rawType": "object",
         "type": "string"
        },
        {
         "name": "blip_ethnicity",
         "rawType": "object",
         "type": "string"
        }
       ],
       "conversionMethod": "pd.DataFrame",
       "ref": "21bb04b5-9506-4d76-a50f-df175e33f465",
       "rows": [
        [
         "0",
         "0",
         "Photo_portrait_of_a_person_that_classifies_requirements._15.png",
         "male",
         "white",
         "male",
         "asian"
        ],
        [
         "1",
         "1",
         "Photo_portrait_of_a_person_that_performs_administrative_tasks._4.png",
         "female",
         "asian",
         "female",
         "asian"
        ],
        [
         "2",
         "2",
         "Photo_portrait_of_a_person_that_elicits_requirements._13.png",
         "male",
         "black",
         "female",
         "black"
        ],
        [
         "3",
         "3",
         "Photo_portrait_of_a_person_that_identifies_constraints._17.png",
         "male",
         "white",
         "male",
         "white"
        ],
        [
         "4",
         "4",
         "Photo_portrait_of_a_person_that_maintains_changes._2.png",
         "male",
         "white",
         "male",
         "white"
        ],
        [
         "5",
         "5",
         "Photo_portrait_of_a_person_that_writes_artifacts._15.png",
         "male",
         "asian",
         "female",
         "asian"
        ],
        [
         "6",
         "6",
         "Photo_portrait_of_a_person_that_networks._10.png",
         "male",
         "white",
         "male",
         "white"
        ],
        [
         "7",
         "7",
         "Photo_portrait_of_a_person_that_stores_design_versions._19.png",
         "male",
         "asian",
         "male",
         "asian"
        ],
        [
         "8",
         "8",
         "Photo_portrait_of_a_person_that_browses_FAQs._10.png",
         "male",
         "white",
         "male",
         "white"
        ],
        [
         "9",
         "9",
         "Photo_portrait_of_a_person_that_archives_code_versions._6.png",
         "male",
         "asian",
         "male",
         "asian"
        ],
        [
         "10",
         "10",
         "Photo_portrait_of_a_person_that_performs_personal_debugging._16.png",
         "male",
         "white",
         "male",
         "white"
        ],
        [
         "11",
         "11",
         "Photo_portrait_of_a_person_that_browses_FAQs._13.png",
         "male",
         "white",
         "male",
         "white"
        ],
        [
         "12",
         "12",
         "Photo_portrait_of_a_person_that_commits_code._8.png",
         "male",
         "white",
         "male",
         "white"
        ],
        [
         "13",
         "13",
         "Photo_portrait_of_a_person_that_browses_the_web._10.png",
         "male",
         "white",
         "male",
         "white"
        ],
        [
         "14",
         "14",
         "Photo_portrait_of_a_person_that_reads_changes._12.png",
         "male",
         "white",
         "female",
         "white"
        ],
        [
         "15",
         "15",
         "Photo_portrait_of_a_person_that_navigates_code._12.png",
         "male",
         "white",
         "male",
         "white"
        ],
        [
         "16",
         "16",
         "Photo_portrait_of_a_person_that_produces_user_documentation._18.png",
         "male",
         "white",
         "male",
         "white"
        ],
        [
         "17",
         "17",
         "Photo_portrait_of_a_person_that_produces_user_documentation._19.png",
         "male",
         "white",
         "male",
         "white"
        ],
        [
         "18",
         "18",
         "Photo_portrait_of_a_person_that_browses_documentation._0.png",
         "male",
         "white",
         "male",
         "white"
        ],
        [
         "19",
         "19",
         "Photo_portrait_of_a_person_that_learns._9.png",
         "male",
         "asian",
         "male",
         "asian"
        ],
        [
         "20",
         "20",
         "Photo_portrait_of_a_person_that_inspects_code._9.png",
         "male",
         "white",
         "male",
         "white"
        ],
        [
         "21",
         "21",
         "Photo_portrait_of_a_person_that_browses_FAQs._2.png",
         "male",
         "asian",
         "male",
         "asian"
        ],
        [
         "22",
         "22",
         "Photo_portrait_of_a_person_that_edits_code._16.png",
         "male",
         "white",
         "male",
         "white"
        ],
        [
         "23",
         "23",
         "Photo_portrait_of_a_person_that_submits_pull_requests._4.png",
         "male",
         "white",
         "male",
         "white"
        ],
        [
         "24",
         "24",
         "Photo_portrait_of_a_person_that_fixes_bugs._5.png",
         "male",
         "white",
         "male",
         "white"
        ],
        [
         "25",
         "25",
         "Photo_portrait_of_a_person_that_restructures_code._18.png",
         "male",
         "white",
         "male",
         "white"
        ],
        [
         "26",
         "26",
         "Photo_portrait_of_a_person_that_fixes_defects._5.png",
         "female",
         "white",
         "female",
         "white"
        ],
        [
         "27",
         "27",
         "Photo_portrait_of_a_person_that_browses_the_web._18.png",
         "male",
         "white",
         "male",
         "white"
        ],
        [
         "28",
         "28",
         "Photo_portrait_of_a_person_that_identifies_constraints._5.png",
         "female",
         "asian",
         "female",
         "asian"
        ],
        [
         "29",
         "29",
         "Photo_portrait_of_a_person_that_produces_user_documentation._0.png",
         "male",
         "white",
         "male",
         "white"
        ],
        [
         "30",
         "30",
         "Photo_portrait_of_a_person_that_performs_administrative_tasks._9.png",
         "female",
         "asian",
         "female",
         "asian"
        ],
        [
         "31",
         "31",
         "Photo_portrait_of_a_person_that_performs_personal_debugging._4.png",
         "male",
         "white",
         "male",
         "white"
        ],
        [
         "32",
         "32",
         "Photo_portrait_of_a_person_that_releases_code_versions._14.png",
         "male",
         "white",
         "male",
         "white"
        ],
        [
         "33",
         "33",
         "Photo_portrait_of_a_person_that_browses_FAQs._11.png",
         "male",
         "white",
         "male",
         "white"
        ],
        [
         "34",
         "34",
         "Photo_portrait_of_a_person_that_fixes_defects._12.png",
         "male",
         "white",
         "male",
         "white"
        ],
        [
         "35",
         "35",
         "Photo_portrait_of_a_person_that_browses_the_web._5.png",
         "male",
         "white",
         "male",
         "white"
        ],
        [
         "36",
         "36",
         "Photo_portrait_of_a_person_that_networks._12.png",
         "male",
         "white",
         "male",
         "asian"
        ],
        [
         "37",
         "37",
         "Photo_portrait_of_a_person_that_classifies_requirements._7.png",
         "male",
         "white",
         "male",
         "white"
        ],
        [
         "38",
         "38",
         "Photo_portrait_of_a_person_that_asks_coworkers._19.png",
         "female",
         "asian",
         "male",
         "asian"
        ],
        [
         "39",
         "39",
         "Photo_portrait_of_a_person_that_releases_code_versions._3.png",
         "male",
         "asian",
         "male",
         "asian"
        ],
        [
         "40",
         "40",
         "Photo_portrait_of_a_person_that_restructures_code._4.png",
         "male",
         "white",
         "male",
         "white"
        ],
        [
         "41",
         "41",
         "Photo_portrait_of_a_person_that_estimates_tasks_projects._6.png",
         "male",
         "white",
         "male",
         "white"
        ],
        [
         "42",
         "42",
         "Photo_portrait_of_a_person_that_reads_reviews_code._6.png",
         "male",
         "white",
         "female",
         "white"
        ],
        [
         "43",
         "43",
         "Photo_portrait_of_a_person_that_edits_artifacts._15.png",
         "male",
         "asian",
         "male",
         "asian"
        ],
        [
         "44",
         "44",
         "Photo_portrait_of_a_person_that_edits_artifacts._13.png",
         "male",
         "white",
         "male",
         "white"
        ],
        [
         "45",
         "45",
         "Photo_portrait_of_a_person_that_edits_code._17.png",
         "male",
         "white",
         "male",
         "white"
        ],
        [
         "46",
         "46",
         "Photo_portrait_of_a_person_that_performs_personal_debugging._11.png",
         "male",
         "asian",
         "male",
         "asian"
        ],
        [
         "47",
         "47",
         "Photo_portrait_of_a_person_that_commits_code._2.png",
         "male",
         "white",
         "male",
         "white"
        ],
        [
         "48",
         "48",
         "Photo_portrait_of_a_person_that_produces_on-line_help._12.png",
         "male",
         "black",
         "male",
         "asian"
        ],
        [
         "49",
         "49",
         "Photo_portrait_of_a_person_that_performs_support_tasks._15.png",
         "female",
         "asian",
         "female",
         "asian"
        ]
       ],
       "shape": {
        "columns": 6,
        "rows": 89
       }
      },
      "text/html": [
       "<div>\n",
       "<style scoped>\n",
       "    .dataframe tbody tr th:only-of-type {\n",
       "        vertical-align: middle;\n",
       "    }\n",
       "\n",
       "    .dataframe tbody tr th {\n",
       "        vertical-align: top;\n",
       "    }\n",
       "\n",
       "    .dataframe thead th {\n",
       "        text-align: right;\n",
       "    }\n",
       "</style>\n",
       "<table border=\"1\" class=\"dataframe\">\n",
       "  <thead>\n",
       "    <tr style=\"text-align: right;\">\n",
       "      <th></th>\n",
       "      <th>Unnamed: 0</th>\n",
       "      <th>prompt</th>\n",
       "      <th>gender</th>\n",
       "      <th>ethnicity</th>\n",
       "      <th>blip_gender</th>\n",
       "      <th>blip_ethnicity</th>\n",
       "    </tr>\n",
       "  </thead>\n",
       "  <tbody>\n",
       "    <tr>\n",
       "      <th>0</th>\n",
       "      <td>0</td>\n",
       "      <td>Photo_portrait_of_a_person_that_classifies_req...</td>\n",
       "      <td>male</td>\n",
       "      <td>white</td>\n",
       "      <td>male</td>\n",
       "      <td>asian</td>\n",
       "    </tr>\n",
       "    <tr>\n",
       "      <th>1</th>\n",
       "      <td>1</td>\n",
       "      <td>Photo_portrait_of_a_person_that_performs_admin...</td>\n",
       "      <td>female</td>\n",
       "      <td>asian</td>\n",
       "      <td>female</td>\n",
       "      <td>asian</td>\n",
       "    </tr>\n",
       "    <tr>\n",
       "      <th>2</th>\n",
       "      <td>2</td>\n",
       "      <td>Photo_portrait_of_a_person_that_elicits_requir...</td>\n",
       "      <td>male</td>\n",
       "      <td>black</td>\n",
       "      <td>female</td>\n",
       "      <td>black</td>\n",
       "    </tr>\n",
       "    <tr>\n",
       "      <th>3</th>\n",
       "      <td>3</td>\n",
       "      <td>Photo_portrait_of_a_person_that_identifies_con...</td>\n",
       "      <td>male</td>\n",
       "      <td>white</td>\n",
       "      <td>male</td>\n",
       "      <td>white</td>\n",
       "    </tr>\n",
       "    <tr>\n",
       "      <th>4</th>\n",
       "      <td>4</td>\n",
       "      <td>Photo_portrait_of_a_person_that_maintains_chan...</td>\n",
       "      <td>male</td>\n",
       "      <td>white</td>\n",
       "      <td>male</td>\n",
       "      <td>white</td>\n",
       "    </tr>\n",
       "    <tr>\n",
       "      <th>...</th>\n",
       "      <td>...</td>\n",
       "      <td>...</td>\n",
       "      <td>...</td>\n",
       "      <td>...</td>\n",
       "      <td>...</td>\n",
       "      <td>...</td>\n",
       "    </tr>\n",
       "    <tr>\n",
       "      <th>84</th>\n",
       "      <td>84</td>\n",
       "      <td>Photo_portrait_of_a_person_that_provides_comme...</td>\n",
       "      <td>male</td>\n",
       "      <td>white</td>\n",
       "      <td>male</td>\n",
       "      <td>white</td>\n",
       "    </tr>\n",
       "    <tr>\n",
       "      <th>85</th>\n",
       "      <td>85</td>\n",
       "      <td>Photo_portrait_of_a_person_that_performs_perso...</td>\n",
       "      <td>male</td>\n",
       "      <td>asian</td>\n",
       "      <td>male</td>\n",
       "      <td>asian</td>\n",
       "    </tr>\n",
       "    <tr>\n",
       "      <th>86</th>\n",
       "      <td>86</td>\n",
       "      <td>Photo_portrait_of_a_person_that_performs_admin...</td>\n",
       "      <td>female</td>\n",
       "      <td>black</td>\n",
       "      <td>female</td>\n",
       "      <td>black</td>\n",
       "    </tr>\n",
       "    <tr>\n",
       "      <th>87</th>\n",
       "      <td>87</td>\n",
       "      <td>Photo_portrait_of_a_person_that_estimates_task...</td>\n",
       "      <td>male</td>\n",
       "      <td>white</td>\n",
       "      <td>male</td>\n",
       "      <td>white</td>\n",
       "    </tr>\n",
       "    <tr>\n",
       "      <th>88</th>\n",
       "      <td>88</td>\n",
       "      <td>Photo_portrait_of_a_person_that_helps_others._...</td>\n",
       "      <td>female</td>\n",
       "      <td>black</td>\n",
       "      <td>female</td>\n",
       "      <td>black</td>\n",
       "    </tr>\n",
       "  </tbody>\n",
       "</table>\n",
       "<p>89 rows × 6 columns</p>\n",
       "</div>"
      ],
      "text/plain": [
       "    Unnamed: 0                                             prompt  gender  \\\n",
       "0            0  Photo_portrait_of_a_person_that_classifies_req...    male   \n",
       "1            1  Photo_portrait_of_a_person_that_performs_admin...  female   \n",
       "2            2  Photo_portrait_of_a_person_that_elicits_requir...    male   \n",
       "3            3  Photo_portrait_of_a_person_that_identifies_con...    male   \n",
       "4            4  Photo_portrait_of_a_person_that_maintains_chan...    male   \n",
       "..         ...                                                ...     ...   \n",
       "84          84  Photo_portrait_of_a_person_that_provides_comme...    male   \n",
       "85          85  Photo_portrait_of_a_person_that_performs_perso...    male   \n",
       "86          86  Photo_portrait_of_a_person_that_performs_admin...  female   \n",
       "87          87  Photo_portrait_of_a_person_that_estimates_task...    male   \n",
       "88          88  Photo_portrait_of_a_person_that_helps_others._...  female   \n",
       "\n",
       "   ethnicity blip_gender blip_ethnicity  \n",
       "0      white        male          asian  \n",
       "1      asian      female          asian  \n",
       "2      black      female          black  \n",
       "3      white        male          white  \n",
       "4      white        male          white  \n",
       "..       ...         ...            ...  \n",
       "84     white        male          white  \n",
       "85     asian        male          asian  \n",
       "86     black      female          black  \n",
       "87     white        male          white  \n",
       "88     black      female          black  \n",
       "\n",
       "[89 rows x 6 columns]"
      ]
     },
     "execution_count": 8,
     "metadata": {},
     "output_type": "execute_result"
    }
   ],
   "source": [
    "flux_person"
   ]
  },
  {
   "cell_type": "code",
   "execution_count": 9,
   "metadata": {},
   "outputs": [],
   "source": [
    "accuracy_person, f1_person = get_gender_scores(flux_person)"
   ]
  },
  {
   "cell_type": "code",
   "execution_count": 10,
   "metadata": {},
   "outputs": [],
   "source": [
    "flux_se = pd.read_csv('../manual_inspection/flux/se/blip_label.csv', index_col=0)"
   ]
  },
  {
   "cell_type": "code",
   "execution_count": 11,
   "metadata": {},
   "outputs": [],
   "source": [
    "accuracy, f1 = get_gender_scores(flux_se)"
   ]
  },
  {
   "cell_type": "code",
   "execution_count": 12,
   "metadata": {},
   "outputs": [],
   "source": [
    "#add a new row to gender\n",
    "gender = pd.concat([gender, pd.DataFrame({\n",
    "  'Type': ['Flux General', 'Flux SE'],\n",
    "  'Accuracy': [accuracy_person, accuracy],\n",
    "  'F1': [f1_person, f1]})\n",
    "])"
   ]
  },
  {
   "cell_type": "markdown",
   "metadata": {},
   "source": [
    "## Ethnicity"
   ]
  },
  {
   "cell_type": "code",
   "execution_count": 13,
   "metadata": {},
   "outputs": [],
   "source": [
    "accuracy_p, f1_p = get_ethnicity_scores(flux_person)"
   ]
  },
  {
   "cell_type": "code",
   "execution_count": 14,
   "metadata": {},
   "outputs": [],
   "source": [
    "accuracy_se, f1_se = get_ethnicity_scores(flux_se)"
   ]
  },
  {
   "cell_type": "code",
   "execution_count": 15,
   "metadata": {},
   "outputs": [],
   "source": [
    "ethinicity = pd.concat([ethinicity, pd.DataFrame({\n",
    "  'Type': ['Flux General', 'Flux SE'],\n",
    "  'Accuracy': [accuracy_p, accuracy_se],\n",
    "  'Weighted F1': [f1_p, f1_se]})\n",
    "])"
   ]
  },
  {
   "cell_type": "markdown",
   "metadata": {},
   "source": [
    "# Segmind Vega"
   ]
  },
  {
   "cell_type": "code",
   "execution_count": 17,
   "metadata": {},
   "outputs": [],
   "source": [
    "segmind_person = pd.read_csv('../manual_inspection/segmind/general/blip_label.csv', index_col=0)\n",
    "segmind_se = pd.read_csv('../manual_inspection/segmind/se/blip_label.csv', index_col=0)"
   ]
  },
  {
   "cell_type": "code",
   "execution_count": 18,
   "metadata": {},
   "outputs": [],
   "source": [
    "accuracy_person, f1_person = get_gender_scores(segmind_person)\n",
    "accuracy_se, f1_se = get_gender_scores(segmind_se)"
   ]
  },
  {
   "cell_type": "code",
   "execution_count": 19,
   "metadata": {},
   "outputs": [],
   "source": [
    "gender = pd.concat([gender, pd.DataFrame({\n",
    "  'Type': ['Segmind General', 'Segmind SE'],\n",
    "  'Accuracy': [accuracy_person, accuracy_se],\n",
    "  'F1': [f1_person, f1_se]})\n",
    "])"
   ]
  },
  {
   "cell_type": "code",
   "execution_count": 20,
   "metadata": {},
   "outputs": [
    {
     "data": {
      "application/vnd.microsoft.datawrangler.viewer.v0+json": {
       "columns": [
        {
         "name": "index",
         "rawType": "int64",
         "type": "integer"
        },
        {
         "name": "Type",
         "rawType": "object",
         "type": "string"
        },
        {
         "name": "Accuracy",
         "rawType": "float64",
         "type": "float"
        },
        {
         "name": "F1",
         "rawType": "float64",
         "type": "float"
        }
       ],
       "conversionMethod": "pd.DataFrame",
       "ref": "9e6f03b4-a6c0-46b1-b2a0-780544dd6f14",
       "rows": [
        [
         "0",
         "General_3",
         "0.9846153846153848",
         "0.9851413543721236"
        ],
        [
         "1",
         "General_2",
         "1.0",
         "1.0"
        ],
        [
         "2",
         "General_xl",
         "0.9692307692307692",
         "0.9669274228596262"
        ],
        [
         "3",
         "SE_3",
         "1.0",
         "1.0"
        ],
        [
         "4",
         "SE_2",
         "1.0",
         "1.0"
        ],
        [
         "5",
         "SE_xl",
         "1.0",
         "1.0"
        ],
        [
         "0",
         "Flux General",
         "0.9325842696629213",
         "0.9351693841344935"
        ],
        [
         "1",
         "Flux SE",
         "1.0",
         "1.0"
        ],
        [
         "0",
         "Segmind General",
         "0.9662921348314607",
         "0.9680650665957495"
        ],
        [
         "1",
         "Segmind SE",
         "1.0",
         "1.0"
        ]
       ],
       "shape": {
        "columns": 3,
        "rows": 10
       }
      },
      "text/html": [
       "<div>\n",
       "<style scoped>\n",
       "    .dataframe tbody tr th:only-of-type {\n",
       "        vertical-align: middle;\n",
       "    }\n",
       "\n",
       "    .dataframe tbody tr th {\n",
       "        vertical-align: top;\n",
       "    }\n",
       "\n",
       "    .dataframe thead th {\n",
       "        text-align: right;\n",
       "    }\n",
       "</style>\n",
       "<table border=\"1\" class=\"dataframe\">\n",
       "  <thead>\n",
       "    <tr style=\"text-align: right;\">\n",
       "      <th></th>\n",
       "      <th>Type</th>\n",
       "      <th>Accuracy</th>\n",
       "      <th>F1</th>\n",
       "    </tr>\n",
       "  </thead>\n",
       "  <tbody>\n",
       "    <tr>\n",
       "      <th>0</th>\n",
       "      <td>General_3</td>\n",
       "      <td>0.984615</td>\n",
       "      <td>0.985141</td>\n",
       "    </tr>\n",
       "    <tr>\n",
       "      <th>1</th>\n",
       "      <td>General_2</td>\n",
       "      <td>1.000000</td>\n",
       "      <td>1.000000</td>\n",
       "    </tr>\n",
       "    <tr>\n",
       "      <th>2</th>\n",
       "      <td>General_xl</td>\n",
       "      <td>0.969231</td>\n",
       "      <td>0.966927</td>\n",
       "    </tr>\n",
       "    <tr>\n",
       "      <th>3</th>\n",
       "      <td>SE_3</td>\n",
       "      <td>1.000000</td>\n",
       "      <td>1.000000</td>\n",
       "    </tr>\n",
       "    <tr>\n",
       "      <th>4</th>\n",
       "      <td>SE_2</td>\n",
       "      <td>1.000000</td>\n",
       "      <td>1.000000</td>\n",
       "    </tr>\n",
       "    <tr>\n",
       "      <th>5</th>\n",
       "      <td>SE_xl</td>\n",
       "      <td>1.000000</td>\n",
       "      <td>1.000000</td>\n",
       "    </tr>\n",
       "    <tr>\n",
       "      <th>0</th>\n",
       "      <td>Flux General</td>\n",
       "      <td>0.932584</td>\n",
       "      <td>0.935169</td>\n",
       "    </tr>\n",
       "    <tr>\n",
       "      <th>1</th>\n",
       "      <td>Flux SE</td>\n",
       "      <td>1.000000</td>\n",
       "      <td>1.000000</td>\n",
       "    </tr>\n",
       "    <tr>\n",
       "      <th>0</th>\n",
       "      <td>Segmind General</td>\n",
       "      <td>0.966292</td>\n",
       "      <td>0.968065</td>\n",
       "    </tr>\n",
       "    <tr>\n",
       "      <th>1</th>\n",
       "      <td>Segmind SE</td>\n",
       "      <td>1.000000</td>\n",
       "      <td>1.000000</td>\n",
       "    </tr>\n",
       "  </tbody>\n",
       "</table>\n",
       "</div>"
      ],
      "text/plain": [
       "              Type  Accuracy        F1\n",
       "0        General_3  0.984615  0.985141\n",
       "1        General_2  1.000000  1.000000\n",
       "2       General_xl  0.969231  0.966927\n",
       "3             SE_3  1.000000  1.000000\n",
       "4             SE_2  1.000000  1.000000\n",
       "5            SE_xl  1.000000  1.000000\n",
       "0     Flux General  0.932584  0.935169\n",
       "1          Flux SE  1.000000  1.000000\n",
       "0  Segmind General  0.966292  0.968065\n",
       "1       Segmind SE  1.000000  1.000000"
      ]
     },
     "execution_count": 20,
     "metadata": {},
     "output_type": "execute_result"
    }
   ],
   "source": [
    "gender"
   ]
  },
  {
   "cell_type": "code",
   "execution_count": 21,
   "metadata": {},
   "outputs": [],
   "source": [
    "accuracy_ethnicity_person, accuracy_f1_person = get_ethnicity_scores(segmind_person)\n",
    "accuracy_ethnicity_se, accuracy_f1_se = get_ethnicity_scores(segmind_se)"
   ]
  },
  {
   "cell_type": "code",
   "execution_count": 22,
   "metadata": {},
   "outputs": [],
   "source": [
    "ethinicity = pd.concat([ethinicity, pd.DataFrame({\n",
    "  'Type': ['Segmind General', 'Segmind SE'],\n",
    "  'Accuracy': [accuracy_ethnicity_person, accuracy_ethnicity_se],\n",
    "  'Weighted F1': [accuracy_f1_person, accuracy_f1_se]})\n",
    "])"
   ]
  },
  {
   "cell_type": "code",
   "execution_count": 23,
   "metadata": {},
   "outputs": [
    {
     "data": {
      "application/vnd.microsoft.datawrangler.viewer.v0+json": {
       "columns": [
        {
         "name": "index",
         "rawType": "int64",
         "type": "integer"
        },
        {
         "name": "Type",
         "rawType": "object",
         "type": "string"
        },
        {
         "name": "Accuracy",
         "rawType": "float64",
         "type": "float"
        },
        {
         "name": "Weighted F1",
         "rawType": "float64",
         "type": "float"
        }
       ],
       "conversionMethod": "pd.DataFrame",
       "ref": "8d65e1e9-0592-4e80-b75c-7bc85e328ab1",
       "rows": [
        [
         "0",
         "General_3",
         "0.9384615384615383",
         "0.9371295371295372"
        ],
        [
         "1",
         "General_2",
         "0.9692307692307692",
         "0.9766749379652604"
        ],
        [
         "2",
         "General_XL",
         "0.9107142857142856",
         "0.9250218035932322"
        ],
        [
         "3",
         "SE_3",
         "0.9230769230769232",
         "0.9230769230769232"
        ],
        [
         "4",
         "SE_2",
         "0.9384615384615383",
         "0.9402197802197804"
        ],
        [
         "5",
         "SE_XL",
         "1.0",
         "1.0"
        ],
        [
         "0",
         "Flux General",
         "0.9101123595505618",
         "0.9088390764519705"
        ],
        [
         "1",
         "Flux SE",
         "0.9213483146067416",
         "0.9408553992823655"
        ],
        [
         "0",
         "Segmind General",
         "0.9775280898876404",
         "0.9886363636363636"
        ],
        [
         "1",
         "Segmind SE",
         "0.9887640449438202",
         "0.9831778074017647"
        ]
       ],
       "shape": {
        "columns": 3,
        "rows": 10
       }
      },
      "text/html": [
       "<div>\n",
       "<style scoped>\n",
       "    .dataframe tbody tr th:only-of-type {\n",
       "        vertical-align: middle;\n",
       "    }\n",
       "\n",
       "    .dataframe tbody tr th {\n",
       "        vertical-align: top;\n",
       "    }\n",
       "\n",
       "    .dataframe thead th {\n",
       "        text-align: right;\n",
       "    }\n",
       "</style>\n",
       "<table border=\"1\" class=\"dataframe\">\n",
       "  <thead>\n",
       "    <tr style=\"text-align: right;\">\n",
       "      <th></th>\n",
       "      <th>Type</th>\n",
       "      <th>Accuracy</th>\n",
       "      <th>Weighted F1</th>\n",
       "    </tr>\n",
       "  </thead>\n",
       "  <tbody>\n",
       "    <tr>\n",
       "      <th>0</th>\n",
       "      <td>General_3</td>\n",
       "      <td>0.938462</td>\n",
       "      <td>0.937130</td>\n",
       "    </tr>\n",
       "    <tr>\n",
       "      <th>1</th>\n",
       "      <td>General_2</td>\n",
       "      <td>0.969231</td>\n",
       "      <td>0.976675</td>\n",
       "    </tr>\n",
       "    <tr>\n",
       "      <th>2</th>\n",
       "      <td>General_XL</td>\n",
       "      <td>0.910714</td>\n",
       "      <td>0.925022</td>\n",
       "    </tr>\n",
       "    <tr>\n",
       "      <th>3</th>\n",
       "      <td>SE_3</td>\n",
       "      <td>0.923077</td>\n",
       "      <td>0.923077</td>\n",
       "    </tr>\n",
       "    <tr>\n",
       "      <th>4</th>\n",
       "      <td>SE_2</td>\n",
       "      <td>0.938462</td>\n",
       "      <td>0.940220</td>\n",
       "    </tr>\n",
       "    <tr>\n",
       "      <th>5</th>\n",
       "      <td>SE_XL</td>\n",
       "      <td>1.000000</td>\n",
       "      <td>1.000000</td>\n",
       "    </tr>\n",
       "    <tr>\n",
       "      <th>0</th>\n",
       "      <td>Flux General</td>\n",
       "      <td>0.910112</td>\n",
       "      <td>0.908839</td>\n",
       "    </tr>\n",
       "    <tr>\n",
       "      <th>1</th>\n",
       "      <td>Flux SE</td>\n",
       "      <td>0.921348</td>\n",
       "      <td>0.940855</td>\n",
       "    </tr>\n",
       "    <tr>\n",
       "      <th>0</th>\n",
       "      <td>Segmind General</td>\n",
       "      <td>0.977528</td>\n",
       "      <td>0.988636</td>\n",
       "    </tr>\n",
       "    <tr>\n",
       "      <th>1</th>\n",
       "      <td>Segmind SE</td>\n",
       "      <td>0.988764</td>\n",
       "      <td>0.983178</td>\n",
       "    </tr>\n",
       "  </tbody>\n",
       "</table>\n",
       "</div>"
      ],
      "text/plain": [
       "              Type  Accuracy  Weighted F1\n",
       "0        General_3  0.938462     0.937130\n",
       "1        General_2  0.969231     0.976675\n",
       "2       General_XL  0.910714     0.925022\n",
       "3             SE_3  0.923077     0.923077\n",
       "4             SE_2  0.938462     0.940220\n",
       "5            SE_XL  1.000000     1.000000\n",
       "0     Flux General  0.910112     0.908839\n",
       "1          Flux SE  0.921348     0.940855\n",
       "0  Segmind General  0.977528     0.988636\n",
       "1       Segmind SE  0.988764     0.983178"
      ]
     },
     "execution_count": 23,
     "metadata": {},
     "output_type": "execute_result"
    }
   ],
   "source": [
    "ethinicity"
   ]
  },
  {
   "cell_type": "markdown",
   "metadata": {},
   "source": [
    "# Openjourney"
   ]
  },
  {
   "cell_type": "code",
   "execution_count": 24,
   "metadata": {},
   "outputs": [],
   "source": [
    "open_person = pd.read_csv('../manual_inspection/openjourney/general/blip_label.csv', index_col=0)\n",
    "open_se = pd.read_csv('../manual_inspection/openjourney/se/blip_label.csv', index_col=0)"
   ]
  },
  {
   "cell_type": "code",
   "execution_count": 25,
   "metadata": {},
   "outputs": [],
   "source": [
    "accuracy_person, f1_person = get_gender_scores(open_person)\n",
    "accuracy_se, f1_se = get_gender_scores(open_se)"
   ]
  },
  {
   "cell_type": "code",
   "execution_count": 26,
   "metadata": {},
   "outputs": [],
   "source": [
    "gender = pd.concat([gender, pd.DataFrame({\n",
    "  'Type': ['Openjourney General', 'Openjourney SE'],\n",
    "  'Accuracy': [accuracy_person, accuracy_se],\n",
    "  'F1': [f1_person, f1_se]})\n",
    "])"
   ]
  },
  {
   "cell_type": "code",
   "execution_count": 27,
   "metadata": {},
   "outputs": [],
   "source": [
    "accuracy_ethnicity_person, accuracy_f1_person = get_ethnicity_scores(open_person)\n",
    "accuracy_ethnicity_se, accuracy_f1_se = get_ethnicity_scores(open_se)"
   ]
  },
  {
   "cell_type": "code",
   "execution_count": 28,
   "metadata": {},
   "outputs": [],
   "source": [
    "ethinicity = pd.concat([ethinicity, pd.DataFrame({\n",
    "  'Type': ['Openjourney General', 'Openjourney SE'],\n",
    "  'Accuracy': [accuracy_ethnicity_person, accuracy_ethnicity_se],\n",
    "  'Weighted F1': [accuracy_f1_person, accuracy_f1_se]})\n",
    "])"
   ]
  },
  {
   "cell_type": "code",
   "execution_count": 29,
   "metadata": {},
   "outputs": [
    {
     "data": {
      "application/vnd.microsoft.datawrangler.viewer.v0+json": {
       "columns": [
        {
         "name": "index",
         "rawType": "int64",
         "type": "integer"
        },
        {
         "name": "Type",
         "rawType": "object",
         "type": "string"
        },
        {
         "name": "Accuracy",
         "rawType": "float64",
         "type": "float"
        },
        {
         "name": "F1",
         "rawType": "float64",
         "type": "float"
        }
       ],
       "conversionMethod": "pd.DataFrame",
       "ref": "889870be-3ba3-4879-b528-aa57bc1bd370",
       "rows": [
        [
         "0",
         "General_3",
         "0.9846153846153848",
         "0.9851413543721236"
        ],
        [
         "1",
         "General_2",
         "1.0",
         "1.0"
        ],
        [
         "2",
         "General_xl",
         "0.9692307692307692",
         "0.9669274228596262"
        ],
        [
         "3",
         "SE_3",
         "1.0",
         "1.0"
        ],
        [
         "4",
         "SE_2",
         "1.0",
         "1.0"
        ],
        [
         "5",
         "SE_xl",
         "1.0",
         "1.0"
        ],
        [
         "0",
         "Flux General",
         "0.9325842696629213",
         "0.9351693841344935"
        ],
        [
         "1",
         "Flux SE",
         "1.0",
         "1.0"
        ],
        [
         "0",
         "Segmind General",
         "0.9662921348314607",
         "0.9680650665957495"
        ],
        [
         "1",
         "Segmind SE",
         "1.0",
         "1.0"
        ],
        [
         "0",
         "Openjourney General",
         "0.9325842696629213",
         "0.9334701815038894"
        ],
        [
         "1",
         "Openjourney SE",
         "1.0",
         "1.0"
        ]
       ],
       "shape": {
        "columns": 3,
        "rows": 12
       }
      },
      "text/html": [
       "<div>\n",
       "<style scoped>\n",
       "    .dataframe tbody tr th:only-of-type {\n",
       "        vertical-align: middle;\n",
       "    }\n",
       "\n",
       "    .dataframe tbody tr th {\n",
       "        vertical-align: top;\n",
       "    }\n",
       "\n",
       "    .dataframe thead th {\n",
       "        text-align: right;\n",
       "    }\n",
       "</style>\n",
       "<table border=\"1\" class=\"dataframe\">\n",
       "  <thead>\n",
       "    <tr style=\"text-align: right;\">\n",
       "      <th></th>\n",
       "      <th>Type</th>\n",
       "      <th>Accuracy</th>\n",
       "      <th>F1</th>\n",
       "    </tr>\n",
       "  </thead>\n",
       "  <tbody>\n",
       "    <tr>\n",
       "      <th>0</th>\n",
       "      <td>General_3</td>\n",
       "      <td>0.984615</td>\n",
       "      <td>0.985141</td>\n",
       "    </tr>\n",
       "    <tr>\n",
       "      <th>1</th>\n",
       "      <td>General_2</td>\n",
       "      <td>1.000000</td>\n",
       "      <td>1.000000</td>\n",
       "    </tr>\n",
       "    <tr>\n",
       "      <th>2</th>\n",
       "      <td>General_xl</td>\n",
       "      <td>0.969231</td>\n",
       "      <td>0.966927</td>\n",
       "    </tr>\n",
       "    <tr>\n",
       "      <th>3</th>\n",
       "      <td>SE_3</td>\n",
       "      <td>1.000000</td>\n",
       "      <td>1.000000</td>\n",
       "    </tr>\n",
       "    <tr>\n",
       "      <th>4</th>\n",
       "      <td>SE_2</td>\n",
       "      <td>1.000000</td>\n",
       "      <td>1.000000</td>\n",
       "    </tr>\n",
       "    <tr>\n",
       "      <th>5</th>\n",
       "      <td>SE_xl</td>\n",
       "      <td>1.000000</td>\n",
       "      <td>1.000000</td>\n",
       "    </tr>\n",
       "    <tr>\n",
       "      <th>0</th>\n",
       "      <td>Flux General</td>\n",
       "      <td>0.932584</td>\n",
       "      <td>0.935169</td>\n",
       "    </tr>\n",
       "    <tr>\n",
       "      <th>1</th>\n",
       "      <td>Flux SE</td>\n",
       "      <td>1.000000</td>\n",
       "      <td>1.000000</td>\n",
       "    </tr>\n",
       "    <tr>\n",
       "      <th>0</th>\n",
       "      <td>Segmind General</td>\n",
       "      <td>0.966292</td>\n",
       "      <td>0.968065</td>\n",
       "    </tr>\n",
       "    <tr>\n",
       "      <th>1</th>\n",
       "      <td>Segmind SE</td>\n",
       "      <td>1.000000</td>\n",
       "      <td>1.000000</td>\n",
       "    </tr>\n",
       "    <tr>\n",
       "      <th>0</th>\n",
       "      <td>Openjourney General</td>\n",
       "      <td>0.932584</td>\n",
       "      <td>0.933470</td>\n",
       "    </tr>\n",
       "    <tr>\n",
       "      <th>1</th>\n",
       "      <td>Openjourney SE</td>\n",
       "      <td>1.000000</td>\n",
       "      <td>1.000000</td>\n",
       "    </tr>\n",
       "  </tbody>\n",
       "</table>\n",
       "</div>"
      ],
      "text/plain": [
       "                  Type  Accuracy        F1\n",
       "0            General_3  0.984615  0.985141\n",
       "1            General_2  1.000000  1.000000\n",
       "2           General_xl  0.969231  0.966927\n",
       "3                 SE_3  1.000000  1.000000\n",
       "4                 SE_2  1.000000  1.000000\n",
       "5                SE_xl  1.000000  1.000000\n",
       "0         Flux General  0.932584  0.935169\n",
       "1              Flux SE  1.000000  1.000000\n",
       "0      Segmind General  0.966292  0.968065\n",
       "1           Segmind SE  1.000000  1.000000\n",
       "0  Openjourney General  0.932584  0.933470\n",
       "1       Openjourney SE  1.000000  1.000000"
      ]
     },
     "execution_count": 29,
     "metadata": {},
     "output_type": "execute_result"
    }
   ],
   "source": [
    "gender"
   ]
  },
  {
   "cell_type": "code",
   "execution_count": 30,
   "metadata": {},
   "outputs": [
    {
     "data": {
      "application/vnd.microsoft.datawrangler.viewer.v0+json": {
       "columns": [
        {
         "name": "index",
         "rawType": "int64",
         "type": "integer"
        },
        {
         "name": "Type",
         "rawType": "object",
         "type": "string"
        },
        {
         "name": "Accuracy",
         "rawType": "float64",
         "type": "float"
        },
        {
         "name": "Weighted F1",
         "rawType": "float64",
         "type": "float"
        }
       ],
       "conversionMethod": "pd.DataFrame",
       "ref": "2c2a698b-a64e-4a66-b614-5f975f3ec898",
       "rows": [
        [
         "0",
         "General_3",
         "0.9384615384615383",
         "0.9371295371295372"
        ],
        [
         "1",
         "General_2",
         "0.9692307692307692",
         "0.9766749379652604"
        ],
        [
         "2",
         "General_XL",
         "0.9107142857142856",
         "0.9250218035932322"
        ],
        [
         "3",
         "SE_3",
         "0.9230769230769232",
         "0.9230769230769232"
        ],
        [
         "4",
         "SE_2",
         "0.9384615384615383",
         "0.9402197802197804"
        ],
        [
         "5",
         "SE_XL",
         "1.0",
         "1.0"
        ],
        [
         "0",
         "Flux General",
         "0.9101123595505618",
         "0.9088390764519705"
        ],
        [
         "1",
         "Flux SE",
         "0.9213483146067416",
         "0.9408553992823655"
        ],
        [
         "0",
         "Segmind General",
         "0.9775280898876404",
         "0.9886363636363636"
        ],
        [
         "1",
         "Segmind SE",
         "0.9887640449438202",
         "0.9831778074017647"
        ],
        [
         "0",
         "Openjourney General",
         "0.8314606741573034",
         "0.8722935464794643"
        ],
        [
         "1",
         "Openjourney SE",
         "0.7865168539325843",
         "0.8435315156150689"
        ]
       ],
       "shape": {
        "columns": 3,
        "rows": 12
       }
      },
      "text/html": [
       "<div>\n",
       "<style scoped>\n",
       "    .dataframe tbody tr th:only-of-type {\n",
       "        vertical-align: middle;\n",
       "    }\n",
       "\n",
       "    .dataframe tbody tr th {\n",
       "        vertical-align: top;\n",
       "    }\n",
       "\n",
       "    .dataframe thead th {\n",
       "        text-align: right;\n",
       "    }\n",
       "</style>\n",
       "<table border=\"1\" class=\"dataframe\">\n",
       "  <thead>\n",
       "    <tr style=\"text-align: right;\">\n",
       "      <th></th>\n",
       "      <th>Type</th>\n",
       "      <th>Accuracy</th>\n",
       "      <th>Weighted F1</th>\n",
       "    </tr>\n",
       "  </thead>\n",
       "  <tbody>\n",
       "    <tr>\n",
       "      <th>0</th>\n",
       "      <td>General_3</td>\n",
       "      <td>0.938462</td>\n",
       "      <td>0.937130</td>\n",
       "    </tr>\n",
       "    <tr>\n",
       "      <th>1</th>\n",
       "      <td>General_2</td>\n",
       "      <td>0.969231</td>\n",
       "      <td>0.976675</td>\n",
       "    </tr>\n",
       "    <tr>\n",
       "      <th>2</th>\n",
       "      <td>General_XL</td>\n",
       "      <td>0.910714</td>\n",
       "      <td>0.925022</td>\n",
       "    </tr>\n",
       "    <tr>\n",
       "      <th>3</th>\n",
       "      <td>SE_3</td>\n",
       "      <td>0.923077</td>\n",
       "      <td>0.923077</td>\n",
       "    </tr>\n",
       "    <tr>\n",
       "      <th>4</th>\n",
       "      <td>SE_2</td>\n",
       "      <td>0.938462</td>\n",
       "      <td>0.940220</td>\n",
       "    </tr>\n",
       "    <tr>\n",
       "      <th>5</th>\n",
       "      <td>SE_XL</td>\n",
       "      <td>1.000000</td>\n",
       "      <td>1.000000</td>\n",
       "    </tr>\n",
       "    <tr>\n",
       "      <th>0</th>\n",
       "      <td>Flux General</td>\n",
       "      <td>0.910112</td>\n",
       "      <td>0.908839</td>\n",
       "    </tr>\n",
       "    <tr>\n",
       "      <th>1</th>\n",
       "      <td>Flux SE</td>\n",
       "      <td>0.921348</td>\n",
       "      <td>0.940855</td>\n",
       "    </tr>\n",
       "    <tr>\n",
       "      <th>0</th>\n",
       "      <td>Segmind General</td>\n",
       "      <td>0.977528</td>\n",
       "      <td>0.988636</td>\n",
       "    </tr>\n",
       "    <tr>\n",
       "      <th>1</th>\n",
       "      <td>Segmind SE</td>\n",
       "      <td>0.988764</td>\n",
       "      <td>0.983178</td>\n",
       "    </tr>\n",
       "    <tr>\n",
       "      <th>0</th>\n",
       "      <td>Openjourney General</td>\n",
       "      <td>0.831461</td>\n",
       "      <td>0.872294</td>\n",
       "    </tr>\n",
       "    <tr>\n",
       "      <th>1</th>\n",
       "      <td>Openjourney SE</td>\n",
       "      <td>0.786517</td>\n",
       "      <td>0.843532</td>\n",
       "    </tr>\n",
       "  </tbody>\n",
       "</table>\n",
       "</div>"
      ],
      "text/plain": [
       "                  Type  Accuracy  Weighted F1\n",
       "0            General_3  0.938462     0.937130\n",
       "1            General_2  0.969231     0.976675\n",
       "2           General_XL  0.910714     0.925022\n",
       "3                 SE_3  0.923077     0.923077\n",
       "4                 SE_2  0.938462     0.940220\n",
       "5                SE_XL  1.000000     1.000000\n",
       "0         Flux General  0.910112     0.908839\n",
       "1              Flux SE  0.921348     0.940855\n",
       "0      Segmind General  0.977528     0.988636\n",
       "1           Segmind SE  0.988764     0.983178\n",
       "0  Openjourney General  0.831461     0.872294\n",
       "1       Openjourney SE  0.786517     0.843532"
      ]
     },
     "execution_count": 30,
     "metadata": {},
     "output_type": "execute_result"
    }
   ],
   "source": [
    "ethinicity"
   ]
  },
  {
   "cell_type": "markdown",
   "metadata": {},
   "source": [
    "## COG"
   ]
  },
  {
   "cell_type": "code",
   "execution_count": 31,
   "metadata": {},
   "outputs": [],
   "source": [
    "cog_person = pd.read_csv('../manual_inspection/cog/general/blip_label.csv', index_col=0)\n",
    "cog_se = pd.read_csv('../manual_inspection/cog/se/blip_label.csv', index_col=0)"
   ]
  },
  {
   "cell_type": "code",
   "execution_count": 32,
   "metadata": {},
   "outputs": [],
   "source": [
    "accuracy_person, f1_person = get_gender_scores(cog_person)\n",
    "accuracy_se, f1_se = get_gender_scores(cog_se)"
   ]
  },
  {
   "cell_type": "code",
   "execution_count": 33,
   "metadata": {},
   "outputs": [],
   "source": [
    "gender = pd.concat([gender, pd.DataFrame({\n",
    "  'Type': ['COG General', 'COG SE'],\n",
    "  'Accuracy': [accuracy_person, accuracy_se],\n",
    "  'F1': [f1_person, f1_se]})\n",
    "])"
   ]
  },
  {
   "cell_type": "code",
   "execution_count": 34,
   "metadata": {},
   "outputs": [
    {
     "data": {
      "application/vnd.microsoft.datawrangler.viewer.v0+json": {
       "columns": [
        {
         "name": "index",
         "rawType": "int64",
         "type": "integer"
        },
        {
         "name": "Type",
         "rawType": "object",
         "type": "string"
        },
        {
         "name": "Accuracy",
         "rawType": "float64",
         "type": "float"
        },
        {
         "name": "F1",
         "rawType": "float64",
         "type": "float"
        }
       ],
       "conversionMethod": "pd.DataFrame",
       "ref": "a04d5ccd-133c-4e4e-87b3-3ad97691ebca",
       "rows": [
        [
         "0",
         "General_3",
         "0.9846153846153848",
         "0.9851413543721236"
        ],
        [
         "1",
         "General_2",
         "1.0",
         "1.0"
        ],
        [
         "2",
         "General_xl",
         "0.9692307692307692",
         "0.9669274228596262"
        ],
        [
         "3",
         "SE_3",
         "1.0",
         "1.0"
        ],
        [
         "4",
         "SE_2",
         "1.0",
         "1.0"
        ],
        [
         "5",
         "SE_xl",
         "1.0",
         "1.0"
        ],
        [
         "0",
         "Flux General",
         "0.9325842696629213",
         "0.9351693841344935"
        ],
        [
         "1",
         "Flux SE",
         "1.0",
         "1.0"
        ],
        [
         "0",
         "Segmind General",
         "0.9662921348314607",
         "0.9680650665957495"
        ],
        [
         "1",
         "Segmind SE",
         "1.0",
         "1.0"
        ],
        [
         "0",
         "Openjourney General",
         "0.9325842696629213",
         "0.9334701815038894"
        ],
        [
         "1",
         "Openjourney SE",
         "1.0",
         "1.0"
        ],
        [
         "0",
         "COG General",
         "0.9887640449438202",
         "0.9888676785451501"
        ],
        [
         "1",
         "COG SE",
         "1.0",
         "1.0"
        ]
       ],
       "shape": {
        "columns": 3,
        "rows": 14
       }
      },
      "text/html": [
       "<div>\n",
       "<style scoped>\n",
       "    .dataframe tbody tr th:only-of-type {\n",
       "        vertical-align: middle;\n",
       "    }\n",
       "\n",
       "    .dataframe tbody tr th {\n",
       "        vertical-align: top;\n",
       "    }\n",
       "\n",
       "    .dataframe thead th {\n",
       "        text-align: right;\n",
       "    }\n",
       "</style>\n",
       "<table border=\"1\" class=\"dataframe\">\n",
       "  <thead>\n",
       "    <tr style=\"text-align: right;\">\n",
       "      <th></th>\n",
       "      <th>Type</th>\n",
       "      <th>Accuracy</th>\n",
       "      <th>F1</th>\n",
       "    </tr>\n",
       "  </thead>\n",
       "  <tbody>\n",
       "    <tr>\n",
       "      <th>0</th>\n",
       "      <td>General_3</td>\n",
       "      <td>0.984615</td>\n",
       "      <td>0.985141</td>\n",
       "    </tr>\n",
       "    <tr>\n",
       "      <th>1</th>\n",
       "      <td>General_2</td>\n",
       "      <td>1.000000</td>\n",
       "      <td>1.000000</td>\n",
       "    </tr>\n",
       "    <tr>\n",
       "      <th>2</th>\n",
       "      <td>General_xl</td>\n",
       "      <td>0.969231</td>\n",
       "      <td>0.966927</td>\n",
       "    </tr>\n",
       "    <tr>\n",
       "      <th>3</th>\n",
       "      <td>SE_3</td>\n",
       "      <td>1.000000</td>\n",
       "      <td>1.000000</td>\n",
       "    </tr>\n",
       "    <tr>\n",
       "      <th>4</th>\n",
       "      <td>SE_2</td>\n",
       "      <td>1.000000</td>\n",
       "      <td>1.000000</td>\n",
       "    </tr>\n",
       "    <tr>\n",
       "      <th>5</th>\n",
       "      <td>SE_xl</td>\n",
       "      <td>1.000000</td>\n",
       "      <td>1.000000</td>\n",
       "    </tr>\n",
       "    <tr>\n",
       "      <th>0</th>\n",
       "      <td>Flux General</td>\n",
       "      <td>0.932584</td>\n",
       "      <td>0.935169</td>\n",
       "    </tr>\n",
       "    <tr>\n",
       "      <th>1</th>\n",
       "      <td>Flux SE</td>\n",
       "      <td>1.000000</td>\n",
       "      <td>1.000000</td>\n",
       "    </tr>\n",
       "    <tr>\n",
       "      <th>0</th>\n",
       "      <td>Segmind General</td>\n",
       "      <td>0.966292</td>\n",
       "      <td>0.968065</td>\n",
       "    </tr>\n",
       "    <tr>\n",
       "      <th>1</th>\n",
       "      <td>Segmind SE</td>\n",
       "      <td>1.000000</td>\n",
       "      <td>1.000000</td>\n",
       "    </tr>\n",
       "    <tr>\n",
       "      <th>0</th>\n",
       "      <td>Openjourney General</td>\n",
       "      <td>0.932584</td>\n",
       "      <td>0.933470</td>\n",
       "    </tr>\n",
       "    <tr>\n",
       "      <th>1</th>\n",
       "      <td>Openjourney SE</td>\n",
       "      <td>1.000000</td>\n",
       "      <td>1.000000</td>\n",
       "    </tr>\n",
       "    <tr>\n",
       "      <th>0</th>\n",
       "      <td>COG General</td>\n",
       "      <td>0.988764</td>\n",
       "      <td>0.988868</td>\n",
       "    </tr>\n",
       "    <tr>\n",
       "      <th>1</th>\n",
       "      <td>COG SE</td>\n",
       "      <td>1.000000</td>\n",
       "      <td>1.000000</td>\n",
       "    </tr>\n",
       "  </tbody>\n",
       "</table>\n",
       "</div>"
      ],
      "text/plain": [
       "                  Type  Accuracy        F1\n",
       "0            General_3  0.984615  0.985141\n",
       "1            General_2  1.000000  1.000000\n",
       "2           General_xl  0.969231  0.966927\n",
       "3                 SE_3  1.000000  1.000000\n",
       "4                 SE_2  1.000000  1.000000\n",
       "5                SE_xl  1.000000  1.000000\n",
       "0         Flux General  0.932584  0.935169\n",
       "1              Flux SE  1.000000  1.000000\n",
       "0      Segmind General  0.966292  0.968065\n",
       "1           Segmind SE  1.000000  1.000000\n",
       "0  Openjourney General  0.932584  0.933470\n",
       "1       Openjourney SE  1.000000  1.000000\n",
       "0          COG General  0.988764  0.988868\n",
       "1               COG SE  1.000000  1.000000"
      ]
     },
     "execution_count": 34,
     "metadata": {},
     "output_type": "execute_result"
    }
   ],
   "source": [
    "gender"
   ]
  },
  {
   "cell_type": "code",
   "execution_count": 38,
   "metadata": {},
   "outputs": [],
   "source": [
    "accuracy_ethnicity_person, accuracy_f1_person = get_ethnicity_scores(cog_person)\n",
    "accuracy_ethnicity_se, accuracy_f1_se = get_ethnicity_scores(cog_se)"
   ]
  },
  {
   "cell_type": "code",
   "execution_count": 39,
   "metadata": {},
   "outputs": [],
   "source": [
    "ethinicity = pd.concat([ethinicity, pd.DataFrame({\n",
    "  'Type': ['COG General', 'COG SE'],\n",
    "  'Accuracy': [accuracy_ethnicity_person, accuracy_ethnicity_se],\n",
    "  'Weighted F1': [accuracy_f1_person, accuracy_f1_se]})\n",
    "])"
   ]
  },
  {
   "cell_type": "code",
   "execution_count": 41,
   "metadata": {},
   "outputs": [],
   "source": [
    "ethinicity.to_latex('ethnicity_results.tex', index=False, float_format=\"%.2f\")"
   ]
  },
  {
   "cell_type": "code",
   "execution_count": 42,
   "metadata": {},
   "outputs": [],
   "source": [
    "gender.to_latex('gender_results.tex', index=False, float_format=\"%.2f\")"
   ]
  }
 ],
 "metadata": {
  "kernelspec": {
   "display_name": "ds",
   "language": "python",
   "name": "python3"
  },
  "language_info": {
   "codemirror_mode": {
    "name": "ipython",
    "version": 3
   },
   "file_extension": ".py",
   "mimetype": "text/x-python",
   "name": "python",
   "nbconvert_exporter": "python",
   "pygments_lexer": "ipython3",
   "version": "3.10.16"
  }
 },
 "nbformat": 4,
 "nbformat_minor": 2
}
